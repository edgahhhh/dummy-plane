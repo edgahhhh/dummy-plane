{
 "cells": [
  {
   "cell_type": "code",
   "execution_count": 5,
   "id": "745b9b5a-5cb5-4a0a-afd9-af770ab9548f",
   "metadata": {},
   "outputs": [
    {
     "name": "stdout",
     "output_type": "stream",
     "text": [
      "Density kg/m^3:  1.1708802555168407\n",
      "Dynamic Viscosity Ns/m^2:  1.8460015185931457e-05\n",
      "\n",
      "Different Chord Lengths (ft): [0.5 1.  1.5 2.  2.5 3.  3.5 4. ]\n",
      "Different Chord Lengths (m): [0.1524 0.3048 0.4572 0.6096 0.762  0.9144 1.0668 1.2192]\n",
      "\n"
     ]
    }
   ],
   "source": [
    "import numpy as np\n",
    "import matplotlib.pyplot as plt\n",
    "P = 100812.79 #Pa\n",
    "Rair = 287 #J/kg*K\n",
    "Temp = 300 #K\n",
    "\n",
    "\n",
    "rho = P/(Rair*Temp)\n",
    "\n",
    "u = ((1.458e-6)*(Temp**1.5))/(110.4+Temp)\n",
    "\n",
    "print(\"Density kg/m^3: \",rho)\n",
    "print(\"Dynamic Viscosity Ns/m^2: \",u)\n",
    "print()\n",
    "\n",
    "vinf = 10 #m/s\n",
    "\n",
    "Xmin = 0.5 #feet\n",
    "Xmax =   4 #feet\n",
    "\n",
    "x_feet = np.linspace(Xmin,Xmax,8)\n",
    "x_meters = np.linspace(Xmin*0.3048,Xmax*0.3048,8)\n",
    "print(f\"Different Chord Lengths (ft): {x_feet}\")\n",
    "print(f\"Different Chord Lengths (m): {x_meters}\")\n",
    "print()\n",
    "\n",
    "# Re = x*vinf*rho/u\n",
    "# print(Re)"
   ]
  },
  {
   "cell_type": "code",
   "execution_count": null,
   "id": "534e5288-bb1b-4f7d-ae12-8843ed747901",
   "metadata": {},
   "outputs": [
    {
     "name": "stdout",
     "output_type": "stream",
     "text": [
      "Xcg & Xac calculations:\n",
      "Xac_w Meters 0.0762\n",
      "Xac_w Feet 0.25\n",
      "Xcg Meters 0.2012\n",
      "Xcg_w Feet 0.6601049868766403\n",
      "\n",
      "Static Stability Wing Only:\n",
      "[-0.22252625 -0.16306102 -0.1035958  -0.04413058  0.01533465  0.07479987\n",
      "  0.13426509  0.19373031  0.25319554  0.31266076  0.37212598]\n",
      "\n",
      "Differnt Tail Distances (meters) from CoG:\n",
      "[0.2162  0.33745 0.4587  0.57995 0.7012 ]\n",
      "\n",
      "For Tail Distance from CoG (ft) 0.7093175853018372: [ 0.16759843  0.10293307  0.03826772 -0.02639764 -0.09106299 -0.15572835\n",
      " -0.2203937  -0.28505906 -0.34972441 -0.41438976 -0.47905512]\n",
      "\n",
      "For Tail Distance from CoG (ft) 1.1071194225721785: [ 0.38638944  0.25210876  0.11782808 -0.01645259 -0.15073327 -0.28501394\n",
      " -0.41929462 -0.5535753  -0.68785597 -0.82213665 -0.95641732]\n",
      "\n",
      "For Tail Distance from CoG (ft) 1.5049212598425197: [ 0.60518045  0.40128445  0.19738845 -0.00650755 -0.21040354 -0.41429954\n",
      " -0.61819554 -0.82209154 -1.02598753 -1.22988353 -1.43377953]\n",
      "\n",
      "For Tail Distance from CoG (ft) 1.9027230971128606: [ 0.82397146  0.55046014  0.27694882  0.0034375  -0.27007382 -0.54358514\n",
      " -0.81709646 -1.09060778 -1.36411909 -1.63763041 -1.91114173]\n",
      "\n",
      "For Tail Distance from CoG (ft) 2.300524934383202: [ 1.04276247  0.69963583  0.35650919  0.01338255 -0.32974409 -0.67287073\n",
      " -1.01599738 -1.35912402 -1.70225066 -2.0453773  -2.38850394]\n",
      "\n"
     ]
    }
   ],
   "source": [
    "#Weight Calculation Done on Small Airplane Design Space\n",
    "Wsys = 0.5242 #lbs\n",
    "wing_chord_ft = 1 #feet\n",
    "wing_chord_m = wing_chord_ft*0.3048 #meter\n",
    "cl_w = np.linspace(-0.25,1.2,11)\n",
    "cl_t = np.linspace(-0.55,1.2,11)\n",
    "\n",
    "#Xcg & Xac\n",
    "print(\"Xcg & Xac calculations:\")\n",
    "Xac_w = wing_chord_m*.25\n",
    "print(\"Xac_w Meters\",Xac_w)\n",
    "print(\"Xac_w Feet\",Xac_w/.3048)\n",
    "Cm_w = -0.12\n",
    "Xcg = Xac_w + 0.125\n",
    "print(\"Xcg Meters\",Xcg)\n",
    "print(\"Xcg_w Feet\",Xcg/.3048)\n",
    "print()\n",
    "\n",
    "# Quick Wing Only Calc:\n",
    "print(\"Static Stability Wing Only:\")\n",
    "Ccg_wing_only = Cm_w + (( Xcg - Xac_w )/wing_chord_m)*cl_w\n",
    "print(Ccg_wing_only)\n",
    "print()\n",
    "\n",
    "# Now with a tail:\n",
    "diff_tail_dists = np.linspace(0.015+Xcg, 0.5+Xcg, 5)\n",
    "print(\"Differnt Tail Distances (meters) from CoG:\")\n",
    "print(diff_tail_dists)\n",
    "print()\n",
    "for l_tail in diff_tail_dists:\n",
    "    Ccg_wing_and_tail = Cm_w + cl_w*(( Xcg - Xac_w )/(wing_chord_m))-cl_t*(l_tail/wing_chord_m)\n",
    "    print(f\"For Tail Distance from CoG (ft) {l_tail/0.3048}: {Ccg_wing_and_tail}\")\n",
    "    print()"
   ]
  }
 ],
 "metadata": {
  "kernelspec": {
   "display_name": "Python 3",
   "language": "python",
   "name": "python3"
  },
  "language_info": {
   "codemirror_mode": {
    "name": "ipython",
    "version": 3
   },
   "file_extension": ".py",
   "mimetype": "text/x-python",
   "name": "python",
   "nbconvert_exporter": "python",
   "pygments_lexer": "ipython3",
   "version": "3.13.4"
  }
 },
 "nbformat": 4,
 "nbformat_minor": 5
}
